{
 "cells": [
  {
   "cell_type": "code",
   "execution_count": 3,
   "id": "8653045d-305b-426a-b5b8-01f8c9393a13",
   "metadata": {},
   "outputs": [
    {
     "name": "stdout",
     "output_type": "stream",
     "text": [
      "[ContentBlock(text='Replit and Streamlit are both platforms for building and hosting web apps in Python, but have some key differences:\\n\\n- Hosting: Replit hosts apps on its cloud platform and provides a shareable URL. Streamlit apps have to be self-hosted somewhere like Heroku. Streamlit does offer a paid Streamlit Cloud hosting service though.\\n\\n- Interface: Streamlit uses Python for both writing logic and UI layout. Replit uses Python + traditional HTML/CSS/JS.\\n\\n- Usage: Streamlit is focused specifically on creating Python data apps and dashboards. Replit supports full stack web apps with databases etc.\\n\\n- Models/Computation: Streamlit runs Python code locally when developing. For hosting, it', type='text')]\n"
     ]
    }
   ],
   "source": [
    "import anthropic\n",
    "import os\n",
    "\n",
    "\n",
    "client = anthropic.Anthropic(\n",
    "    api_key = os.environ.get(\"ANTHROPIC_API_KEY\")\n",
    ")"
   ]
  },
  {
   "cell_type": "code",
   "execution_count": 49,
   "id": "12f052dc-d3e1-43cc-a5f0-14c50bec586b",
   "metadata": {},
   "outputs": [],
   "source": [
    "system_prompt = \"\"\"you are a very competent teacher\n",
    "\n",
    "you are teaching year 13 A-level students\n",
    "\n",
    "read the syllabus carefully\n",
    "\"\"\"\n",
    "\n",
    "# user_prompt_pre = \"\"\"\n",
    "# <syllabus> </syllabus>\n",
    "# create questions based on these key concepts that will test student’s understanding\n",
    "\n",
    "# put each question in question tags\n",
    "\n",
    "# give the answers also in answer tags\n",
    "\n",
    "# each answer after each question\n",
    "# \"\"\"\n",
    "\n",
    "user_prompt_pre = \"\"\"\n",
    "<syllabus> </syllabus>\n",
    "create clear questions from the syllabus that will test student’s understanding\n",
    "\n",
    "the answers will be clear and elaborate\n",
    "\n",
    "put each question in question tags\n",
    "\n",
    "give the answers in answer tags\n",
    "\n",
    "Skip the preamble in the response.\n",
    "\"\"\""
   ]
  },
  {
   "cell_type": "code",
   "execution_count": 8,
   "id": "b930b489-9e28-4bf7-b43e-6de1466a896a",
   "metadata": {},
   "outputs": [],
   "source": [
    "content = \"\"\"\n",
    "Aristotle (384 B.C.E.—322 B.C.E.)\n",
    "Aristotle is a towering figure in ancient Greek philosophy, who made important contributions to logic, criticism, rhetoric, physics, biology, psychology, mathematics, metaphysics, ethics, and politics. He was a student of Plato for twenty years but is famous for rejecting Plato’s theory of forms. He was more empirically minded than both Plato and Plato’s teacher, Socrates.\n",
    "\n",
    "A prolific writer, lecturer, and polymath, Aristotle radically transformed most of the topics he investigated. In his lifetime, he wrote dialogues and as many as 200 treatises, of which only 31 survive. These works are in the form of lecture notes and draft manuscripts never intended for general readership. Nevertheless, they are the earliest complete philosophical treatises we still possess.\n",
    "\n",
    "As the father of western logic, Aristotle was the first to develop a formal system for reasoning. He observed that the deductive validity of any argument can be determined by its structure rather than its content, for example, in the syllogism: All men are mortal; Socrates is a man; therefore, Socrates is mortal. Even if the content of the argument were changed from being about Socrates to being about someone else, because of its structure, as long as the premises are true, then the conclusion must also be true. Aristotelian logic dominated until the rise of modern propositional logic and predicate logic 2000 years later.\n",
    "\n",
    "The emphasis on good reasoning serves as the backdrop for Aristotle’s other investigations. In his natural philosophy, Aristotle combines logic with observation to make general, causal claims. For example, in his biology, Aristotle uses the concept of species to make empirical claims about the functions and behavior of individual animals. However, as revealed in his psychological works, Aristotle is no reductive materialist. Instead, he thinks of the body as the matter, and the psyche as the form of each living animal.\n",
    "\n",
    "Though his natural scientific work is firmly based on observation, Aristotle also recognizes the possibility of knowledge that is not empirical. In his metaphysics, he claims that there must be a separate and unchanging being that is the source of all other beings. In his ethics, he holds that it is only by becoming excellent that one could achieve eudaimonia, a sort of happiness or blessedness that constitutes the best kind of human life.\n",
    "\n",
    "Aristotle was the founder of the Lyceum, a school based in Athens, Greece; and he was the first of the Peripatetics, his followers from the Lyceum. Aristotle’s works, exerted tremendous influence on ancient and medieval thought and continue to inspire philosophers to this day.\n",
    "\"\"\"\n",
    "user_prompt = user_prompt_pre + content"
   ]
  },
  {
   "cell_type": "code",
   "execution_count": 18,
   "id": "0a0d169d-595c-47ee-866f-0102ad188729",
   "metadata": {},
   "outputs": [
    {
     "name": "stdout",
     "output_type": "stream",
     "text": [
      "[ContentBlock(text=\"Here are some potential exam questions on the key concepts in Aristotle's philosophy:\\n\\n<question>What is Aristotle's view on Plato's theory of forms?</question>\\n<answer>Aristotle rejected Plato's theory of forms, instead being more empirically minded.</answer>\\n\\n<question>What formal system for reasoning did Aristotle develop?</question>  \\n<answer>Aristotle developed formal logic and was the first to develop a system for assessing deductive arguments based on their structure rather than content.</answer>\\n\\n<question>What is an example of a deductive syllogism Aristotle discusses?</question>\\n<answer>An example is: All men are mortal; Socrates is a man; therefore, Socrates is mortal.</answer>\\n\\n<question>How did Aristotle combine logic and observation in his natural philosophy?</question>\\n<answer>Aristotle used logic to make general, causal claims based on empirical observations in domains like biology.</answer>  \\n\\n<question>What are the key concepts in Aristotle's metaphysics?</question>\\n<answer>Aristotle argued that there must be a separate, unchanging being that is the source of all other beings.</answer>\\n\\n<question>According to Aristotle, how does one achieve eudaimonia or the best kind of life?</question>\\n<answer>Aristotle argued that one achieves eudaimonia or a blessed/happy life by becoming excellent or virtuous.</answer>\", type='text')]\n"
     ]
    }
   ],
   "source": [
    "message = client.messages.create(\n",
    "    model=\"claude-2.1\",\n",
    "    max_tokens=1500,\n",
    "    temperature=1,\n",
    "    messages=[{\"role\": \"system\", \n",
    "               \"content\": system_prompt,\n",
    "               \"role\": \"user\",\n",
    "               \"content\": user_prompt\n",
    "              }]    \n",
    ")\n",
    "print(message.content[0].text)"
   ]
  },
  {
   "cell_type": "code",
   "execution_count": 20,
   "id": "7fd58256-aa0f-4654-9a31-d90a5a2214dc",
   "metadata": {},
   "outputs": [],
   "source": [
    "from dataclasses import dataclass\n",
    "from typing import List\n",
    "import xml.etree.ElementTree as ET\n",
    "\n",
    "@dataclass\n",
    "class Question:\n",
    "    question: str\n",
    "    answer: str\n",
    "\n",
    "def parse_questions(xml_string: str) -> List[Question]:\n",
    "    questions = []\n",
    "    \n",
    "    # Parse the XML string\n",
    "    root = ET.fromstring(f\"<root>{xml_string}</root>\")  # Wrapping with a root tag since XML needs a single root element\n",
    "    \n",
    "    # Iterate over question elements\n",
    "    for question_elem in root.findall('question'):\n",
    "        # Find the corresponding answer element\n",
    "        answer_elem = question_elem.find('answer')\n",
    "        question_text = question_elem.text.strip() if question_elem.text is not None else \"\"\n",
    "        answer_text = answer_elem.text.strip() if answer_elem.text is not None else \"\"\n",
    "        \n",
    "        # Create a Question instance and append to the list\n",
    "        questions.append(Question(question=question_text, answer=answer_text))\n",
    "    \n",
    "    return questions"
   ]
  },
  {
   "cell_type": "code",
   "execution_count": 43,
   "id": "67e55081-3093-4873-ae12-f3bc02d4f6ff",
   "metadata": {},
   "outputs": [],
   "source": [
    "from dataclasses import dataclass\n",
    "import re\n",
    "\n",
    "# Define the Question dataclass\n",
    "@dataclass\n",
    "class Question:\n",
    "    question: str\n",
    "    answer: str\n",
    "\n",
    "def parse_questions(input_string: str) -> list[Question]:\n",
    "    \"\"\"\n",
    "    Parses a string containing question and answer pairs in a custom XML format \n",
    "    and returns a list of Question objects.\n",
    "    \n",
    "    Parameters:\n",
    "    - input_string: str. The input string in a custom XML format.\n",
    "    \n",
    "    Returns:\n",
    "    - A list of Question objects extracted from the input string.\n",
    "    \"\"\"\n",
    "    # Regular expression to find all question and answer pairs\n",
    "    pattern = re.compile(r'<question>(.*?)<\\/question>\\s*<answer>(.*?)<\\/answer>')\n",
    "    \n",
    "    # Find all matches of the pattern in the input string\n",
    "    matches = pattern.findall(input_string)\n",
    "    \n",
    "    # Instantiate Question objects for each found pair and collect them in a list\n",
    "    questions = [Question(question=match[0], answer=match[1]) for match in matches]\n",
    "    \n",
    "    return questions\n",
    "\n",
    "# Example usage\n",
    "if __name__ == \"__main__\":\n",
    "    input_string = \"\"\"<question>Some text for one question</question>.\n",
    "<answer>Some text for an answer</answer>\n",
    "<question>Some text for one question</question>.\n",
    "<answer>Some text for an answer</answer>\n",
    "\"\"\"\n",
    "    questions = parse_questions(input_string)\n",
    "    for q in questions:\n",
    "        print(f\"Question: {q.question}, Answer: {q.answer}\")"
   ]
  },
  {
   "cell_type": "code",
   "execution_count": 47,
   "id": "8e66b2f9-d248-4614-992a-2e843c7652c4",
   "metadata": {
    "collapsed": true,
    "jupyter": {
     "outputs_hidden": true
    },
    "scrolled": true
   },
   "outputs": [
    {
     "name": "stdout",
     "output_type": "stream",
     "text": [
      "Question: What is Aristotle's view on Plato's theory of forms?\n",
      "Answer: Aristotle rejected Plato's theory of forms, instead being more empirically minded.\n",
      "\n",
      "\n",
      "Question: What formal system for reasoning did Aristotle develop?\n",
      "Answer: Aristotle developed formal logic and was the first to develop a system for assessing deductive arguments based on their structure rather than content.\n",
      "\n",
      "\n",
      "Question: What is an example of a deductive syllogism Aristotle discusses?\n",
      "Answer: An example is: All men are mortal; Socrates is a man; therefore, Socrates is mortal.\n",
      "\n",
      "\n",
      "Question: How did Aristotle combine logic and observation in his natural philosophy?\n",
      "Answer: Aristotle used logic to make general, causal claims based on empirical observations in domains like biology.\n",
      "\n",
      "\n",
      "Question: What are the key concepts in Aristotle's metaphysics?\n",
      "Answer: Aristotle argued that there must be a separate, unchanging being that is the source of all other beings.\n",
      "\n",
      "\n",
      "Question: According to Aristotle, how does one achieve eudaimonia or the best kind of life?\n",
      "Answer: Aristotle argued that one achieves eudaimonia or a blessed/happy life by becoming excellent or virtuous.\n",
      "\n",
      "\n"
     ]
    }
   ],
   "source": [
    "# Prompt\n",
    "qlist = parse_questions(message.content[0].text)\n",
    "for q in qlist:\n",
    "        print(f\"Question: {q.question}\\nAnswer: {q.answer}\\n\\n\")"
   ]
  },
  {
   "cell_type": "code",
   "execution_count": null,
   "id": "5a5ac57a-3d54-4679-81fc-af81727b0cfb",
   "metadata": {},
   "outputs": [],
   "source": []
  }
 ],
 "metadata": {
  "kernelspec": {
   "display_name": "Python 3 (ipykernel)",
   "language": "python",
   "name": "python3"
  },
  "language_info": {
   "codemirror_mode": {
    "name": "ipython",
    "version": 3
   },
   "file_extension": ".py",
   "mimetype": "text/x-python",
   "name": "python",
   "nbconvert_exporter": "python",
   "pygments_lexer": "ipython3",
   "version": "3.12.2"
  }
 },
 "nbformat": 4,
 "nbformat_minor": 5
}
