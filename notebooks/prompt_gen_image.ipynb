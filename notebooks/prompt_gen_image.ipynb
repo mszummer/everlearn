{
 "cells": [
  {
   "cell_type": "code",
   "execution_count": 1,
   "id": "ab8df5d6-1088-4dc4-a746-a5af1d34e2f8",
   "metadata": {},
   "outputs": [],
   "source": [
    "import anthropic\n",
    "import os\n",
    "\n",
    "client = anthropic.Anthropic(\n",
    "    api_key = os.environ.get(\"ANTHROPIC_API_KEY\")\n",
    ")"
   ]
  },
  {
   "cell_type": "code",
   "execution_count": 8,
   "id": "6b48122b-b717-479c-a6fd-b72ff4edb9bc",
   "metadata": {},
   "outputs": [],
   "source": [
    "system_image_prompt = \"\"\"You are a prompt engineer who specialises in writing prompts for image generators\n",
    "\n",
    "Read the tips very carefully \n",
    "<tips> Describe the Image You Want: Start by providing a detailed description of the image you'd like to create. The more specific you are, the better the results will be. You can describe scenes, objects, styles, colours, and even the mood you want the image to convey.\n",
    "\n",
    "Specify Image Details: If you have preferences for the image's orientation (square, wide, or full-body portrait), please mention that. You can also specify if you want a single image or multiple interpretations (up to 2) of your description. </tips>\n",
    "\n",
    "\n",
    "then produce an image prompt that generates an image based on the question\n",
    "\"\"\"\n",
    "\n",
    "user_image_prompt_pre = \"\"\"\n",
    "Enclose the image prompt in image prompt tags\n",
    "\n",
    "Skip the preamble in the response\n",
    "\"\"\""
   ]
  },
  {
   "cell_type": "code",
   "execution_count": 14,
   "id": "02c5716e-face-402c-a75b-72898b98a1e4",
   "metadata": {},
   "outputs": [],
   "source": [
    "system_image_prompt = \"\"\"You are a prompt engineer that writes prompts for generating images.\n",
    "\n",
    "You will be given a textual topic for which to generate a representative image.\n",
    "Given an overall topic, your approach is to:\n",
    "\n",
    "First, imagine an image that is representative of the topic.  \n",
    "The image should be a typical, memorable and detailed.\n",
    "\n",
    "Second, write a extensive description of everything you see in the image.  \n",
    "Describe the objects present, the background, colors and textures.\n",
    "Also describe the mood.\n",
    "\n",
    "\n",
    "\"\"\"\n",
    "\n",
    "user_image_prompt_pre = \"\"\"\n",
    "Skip the preamble in the response\n",
    "Enclose the description of the image in the tags:  <image-prompt> </image-prompt>\n",
    "\"\"\""
   ]
  },
  {
   "cell_type": "code",
   "execution_count": 10,
   "id": "2f7784da-49c2-462b-970c-f1c170818788",
   "metadata": {},
   "outputs": [],
   "source": [
    "question = \"\"\"\n",
    "Explain the economic problem of scarcity and the distinction between renewable and non-renewable resources.\n",
    "Answer: The economic problem of scarcity refers to the concept that human wants are unlimited while resources in the world are limited. Renewable resources can be replenished over time, while non-renewable resources cannot be replaced once they are used up.\n",
    "\"\"\""
   ]
  },
  {
   "cell_type": "code",
   "execution_count": 11,
   "id": "c62f1d70-521a-40bb-b543-d4439a17dbfe",
   "metadata": {},
   "outputs": [],
   "source": [
    "user_image_prompt = user_image_prompt_pre + \"<question>\\n\" + question + \"\\n</question>\""
   ]
  },
  {
   "cell_type": "code",
   "execution_count": 12,
   "id": "d04d3545-ec7d-4041-b03e-1a820b99ebb0",
   "metadata": {},
   "outputs": [
    {
     "data": {
      "text/plain": [
       "'\\nEnclose the image prompt in image prompt tags\\n\\nSkip the preamble in the response\\n<question>\\n\\nExplain the economic problem of scarcity and the distinction between renewable and non-renewable resources.\\nAnswer: The economic problem of scarcity refers to the concept that human wants are unlimited while resources in the world are limited. Renewable resources can be replenished over time, while non-renewable resources cannot be replaced once they are used up.\\n\\n</question>'"
      ]
     },
     "execution_count": 12,
     "metadata": {},
     "output_type": "execute_result"
    }
   ],
   "source": [
    "user_image_prompt"
   ]
  },
  {
   "cell_type": "code",
   "execution_count": 13,
   "id": "3ddf5720-cbfc-4f14-8de3-bb7e47565092",
   "metadata": {},
   "outputs": [
    {
     "name": "stdout",
     "output_type": "stream",
     "text": [
      "<image-prompt>\n",
      "Explain the economic problem of scarcity and the distinction between renewable and non-renewable resources.\n",
      "</image-prompt>\n"
     ]
    }
   ],
   "source": [
    "message = client.messages.create(\n",
    "    model=\"claude-2.1\",\n",
    "    max_tokens=1500,\n",
    "    temperature=1,\n",
    "    messages=[{\"role\": \"system\", \n",
    "               \"content\": system_image_prompt,\n",
    "               \"role\": \"user\",\n",
    "               \"content\": user_image_prompt\n",
    "              }]    \n",
    ")\n",
    "print(message.content[0].text)"
   ]
  },
  {
   "cell_type": "code",
   "execution_count": null,
   "id": "9d8847f1-365c-45c8-a4b0-56667a85f34e",
   "metadata": {},
   "outputs": [],
   "source": []
  }
 ],
 "metadata": {
  "kernelspec": {
   "display_name": "Python 3 (ipykernel)",
   "language": "python",
   "name": "python3"
  },
  "language_info": {
   "codemirror_mode": {
    "name": "ipython",
    "version": 3
   },
   "file_extension": ".py",
   "mimetype": "text/x-python",
   "name": "python",
   "nbconvert_exporter": "python",
   "pygments_lexer": "ipython3",
   "version": "3.12.2"
  }
 },
 "nbformat": 4,
 "nbformat_minor": 5
}
